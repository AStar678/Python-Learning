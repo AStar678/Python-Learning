{
 "cells": [
  {
   "cell_type": "markdown",
   "metadata": {},
   "source": [
    "## 打印输出"
   ]
  },
  {
   "cell_type": "markdown",
   "metadata": {},
   "source": [
    "print(*objects, sep=' ', end='\\n', file=sys.stdout, flush=False)"
   ]
  },
  {
   "cell_type": "code",
   "execution_count": 3,
   "metadata": {},
   "outputs": [
    {
     "name": "stdout",
     "output_type": "stream",
     "text": [
      "Hello world\n"
     ]
    }
   ],
   "source": [
    "# 这是一个注释\n",
    "print(\"Hello world\")"
   ]
  },
  {
   "cell_type": "code",
   "execution_count": 39,
   "metadata": {},
   "outputs": [
    {
     "name": "stdout",
     "output_type": "stream",
     "text": [
      "This is printed with 'end='&''.\n",
      "apple&mango&carrot&banana&hello world\n"
     ]
    }
   ],
   "source": [
    "shoplist = ['apple', 'mango', 'carrot', 'banana']\n",
    "print(\"This is printed with 'end='&''.\")\n",
    "for item in shoplist:\n",
    "    print(item, end='&')\n",
    "print('hello world')"
   ]
  },
  {
   "cell_type": "code",
   "execution_count": 40,
   "metadata": {},
   "outputs": [
    {
     "name": "stdout",
     "output_type": "stream",
     "text": [
      "This is printed with 'sep='&''.\n",
      "apple&another string\n",
      "mango&another string\n",
      "carrot&another string\n",
      "banana&another string\n"
     ]
    }
   ],
   "source": [
    "shoplist = ['apple', 'mango', 'carrot', 'banana']\n",
    "print(\"This is printed with 'sep='&''.\")\n",
    "for item in shoplist:\n",
    "    print(item, 'another string', sep='&')\n",
    "\n",
    "# This is printed with 'sep='&''.\n",
    "# apple&another string\n",
    "# mango&another string\n",
    "# carrot&another string\n",
    "# banana&another string"
   ]
  },
  {
   "cell_type": "markdown",
   "metadata": {},
   "source": [
    "## 运算符"
   ]
  },
  {
   "cell_type": "code",
   "execution_count": 2,
   "metadata": {},
   "outputs": [
    {
     "name": "stdout",
     "output_type": "stream",
     "text": [
      "2\n",
      "1\n",
      "12\n",
      "0.75\n",
      "0\n",
      "3\n",
      "8\n"
     ]
    }
   ],
   "source": [
    "print(1 + 1)  # 2\n",
    "print(2 - 1)  # 1\n",
    "print(3 * 4)  # 12\n",
    "print(3 / 4)  # 0.75\n",
    "print(3 // 4)  # 0\n",
    "print(3 % 4)  # 3\n",
    "print(2 ** 3)  # 8"
   ]
  },
  {
   "cell_type": "markdown",
   "metadata": {
    "vscode": {
     "languageId": "plaintext"
    }
   },
   "source": [
    "## 条件"
   ]
  },
  {
   "cell_type": "code",
   "execution_count": 3,
   "metadata": {},
   "outputs": [
    {
     "name": "stdout",
     "output_type": "stream",
     "text": [
      "True\n",
      "False\n",
      "True\n",
      "False\n",
      "False\n",
      "True\n"
     ]
    }
   ],
   "source": [
    "print(2 > 1)  # True\n",
    "print(2 >= 4)  # False\n",
    "print(1 < 2)  # True\n",
    "print(5 <= 2)  # False\n",
    "print(3 == 4)  # False\n",
    "print(3 != 5)  # True"
   ]
  },
  {
   "cell_type": "markdown",
   "metadata": {},
   "source": [
    "## 逻辑"
   ]
  },
  {
   "cell_type": "code",
   "execution_count": 4,
   "metadata": {},
   "outputs": [
    {
     "name": "stdout",
     "output_type": "stream",
     "text": [
      "True\n",
      "False\n",
      "False\n"
     ]
    }
   ],
   "source": [
    "print((3 > 2) and (3 < 5))  # True\n",
    "print((1 > 3) or (9 < 2))  # False\n",
    "print(not (2 > 1))  # False"
   ]
  },
  {
   "cell_type": "markdown",
   "metadata": {},
   "source": [
    "## 位运算"
   ]
  },
  {
   "cell_type": "code",
   "execution_count": 5,
   "metadata": {},
   "outputs": [
    {
     "name": "stdout",
     "output_type": "stream",
     "text": [
      "0b100\n",
      "0b101\n",
      "-0b101 -5\n",
      "0b100 4\n",
      "0b101 5\n",
      "0b1 1\n",
      "0b10000 16\n",
      "0b1 1\n"
     ]
    }
   ],
   "source": [
    "print(bin(4))  # 0b100      二进制输出：bin()\n",
    "print(bin(5))  # 0b101\n",
    "print(bin(~4), ~4)  # -0b101 -5   按位取反     \n",
    "print(bin(4 & 5), 4 & 5)  # 0b100 4    按位且\n",
    "print(bin(4 | 5), 4 | 5)  # 0b101 5    位或\n",
    "print(bin(4 ^ 5), 4 ^ 5)  # 0b1 1      位异或\n",
    "print(bin(4 << 2), 4 << 2)  # 0b10000 16    左移\n",
    "print(bin(4 >> 2), 4 >> 2)  # 0b1 1     右移"
   ]
  },
  {
   "cell_type": "markdown",
   "metadata": {},
   "source": [
    "### ～按位取反"
   ]
  },
  {
   "cell_type": "code",
   "execution_count": 9,
   "metadata": {},
   "outputs": [
    {
     "name": "stdout",
     "output_type": "stream",
     "text": [
      "0b100 -0b101\n",
      "4 -5\n"
     ]
    }
   ],
   "source": [
    "print(bin(4),bin(~4))\n",
    "print(4,~4)"
   ]
  },
  {
   "cell_type": "markdown",
   "metadata": {},
   "source": [
    "按位取反运算符 ~：~ 是 Python 中的按位取反运算符，它会对整数的二进制表示中的每一位进行取反操作，即 0 变为 1，1 变为 0。需要注意的是，Python 中整数采用补码形式存储，对于有符号整数，按位取反的计算规则是 - (x + 1)。\n",
    "计算 ~4 的值：根据按位取反的规则 - (x + 1)，当 x = 4 时，~4 的值为 - (4 + 1) = -5。\n",
    "-5 的二进制表示：在 Python 中，负数的二进制表示采用补码形式。-5 的二进制补码表示在计算机内部是一个 32 位或 64 位（取决于系统）的二进制数，但 bin() 函数会以最简洁的方式表示负数，结果为 -0b101。这是因为 -5 的绝对值 5 的二进制是 101，加上负号和 0b 前缀后就是 -0b101。\n",
    "执行结果：当执行 bin(~4) 时，会返回字符串 '-0b101'。"
   ]
  },
  {
   "cell_type": "markdown",
   "metadata": {},
   "source": [
    "### &按位与运算符 "
   ]
  },
  {
   "cell_type": "code",
   "execution_count": 10,
   "metadata": {},
   "outputs": [
    {
     "name": "stdout",
     "output_type": "stream",
     "text": [
      "0b100 4\n"
     ]
    }
   ],
   "source": [
    "print(bin(4 & 5),4 & 5)"
   ]
  },
  {
   "cell_type": "markdown",
   "metadata": {},
   "source": [
    "##### 100  (4 的二进制)\n",
    "##### 101  (5 的二进制)\n",
    "---\n",
    "100  (结果的二进制)"
   ]
  },
  {
   "cell_type": "markdown",
   "metadata": {
    "vscode": {
     "languageId": "plaintext"
    }
   },
   "source": [
    "### 位或与位异或同上"
   ]
  },
  {
   "cell_type": "code",
   "execution_count": 1,
   "metadata": {},
   "outputs": [
    {
     "name": "stdout",
     "output_type": "stream",
     "text": [
      "0b101 5\n",
      "0b1 1\n"
     ]
    }
   ],
   "source": [
    "print(bin(4 | 5), 4 | 5)  \n",
    "print(bin(4 ^ 5), 4 ^ 5)  "
   ]
  },
  {
   "cell_type": "markdown",
   "metadata": {},
   "source": [
    "### 位移"
   ]
  },
  {
   "cell_type": "code",
   "execution_count": 2,
   "metadata": {},
   "outputs": [
    {
     "name": "stdout",
     "output_type": "stream",
     "text": [
      "0b10000 16\n",
      "0b1 1\n"
     ]
    }
   ],
   "source": [
    "print(bin(4 << 2), 4 << 2)\n",
    "print(bin(4 >> 2), 4 >> 2)"
   ]
  },
  {
   "cell_type": "markdown",
   "metadata": {},
   "source": [
    "1. 按位左移运算符 <<\n",
    "   按位左移运算符 << 会将一个数的二进制表示向左移动指定的位数，右边空出的位用 0 填充。每向左移动一位，相当于该数乘以 2。移动 n 位，就相当于该数乘以 2^n。\n",
    "2. 按位右移运算符 >> \n",
    "   按位右移运算符 >> 会将一个数的二进制表示向右移动指定的位数，左边空出的位根据原数的正负进行填充（正数补 0，负数补 1）。每向右移动一位，相当于该数除以 2 并向下取整。移动 n 位，就相当于该数除以 2^n 并向下取整。"
   ]
  },
  {
   "cell_type": "markdown",
   "metadata": {},
   "source": [
    "### 利用位进行快速计算"
   ]
  },
  {
   "cell_type": "markdown",
   "metadata": {},
   "source": [
    "  ##### 通过 <<，>> 快速计算2的倍数问题。\n",
    "\n",
    "  n << 1 -> 计算 n*2  n >> 1 -> 计算 n/2，负奇数的运算不可用  \n",
    "\n",
    "  n << m -> 计算 n*(2^m)，即乘以 2 的 m 次方  \n",
    "\n",
    "  n >> m -> 计算 n/(2^m)，即除以 2 的 m 次方  \n",
    "\n",
    "  1 << n -> 2^n"
   ]
  },
  {
   "cell_type": "markdown",
   "metadata": {},
   "source": [
    "##### 通过 ^ 快速交换两个整数。 通过 ^ 快速交换两个整数。\n",
    "\n",
    "a ^= b  \n",
    "\n",
    "b ^= a  \n",
    "\n",
    "a ^= b  \n"
   ]
  },
  {
   "cell_type": "markdown",
   "metadata": {},
   "source": [
    "### 利用位运算实现整数集合"
   ]
  },
  {
   "cell_type": "markdown",
   "metadata": {},
   "source": [
    "一个数的二进制表示可以看作是一个集合（0 表示不在集合中，1 表示在集合中）。\n",
    "\n",
    "比如集合 {1, 3, 4, 8}，可以表示成 01 00 01 10 10 而对应的位运算也就可以看作是对集合进行的操作。\n",
    "\n",
    "##### 元素与集合的操作：\n",
    "\n",
    "a | (1<<i)  -> 把 i 插入到集合中\n",
    "\n",
    "a & ~(1<<i) -> 把 i 从集合中删除\n",
    "\n",
    "a & (1<<i)  -> 判断 i 是否属于该集合（零不属于，非零属于）\n",
    "\n",
    "##### 集合之间的操作：\n",
    "\n",
    "a 补   -> ~a\n",
    "\n",
    "a 交 b -> a & b\n",
    "\n",
    "a 并 b -> a | b\n",
    "\n",
    "a 差 b -> a & (~b)"
   ]
  },
  {
   "cell_type": "code",
   "execution_count": 46,
   "metadata": {},
   "outputs": [
    {
     "name": "stdout",
     "output_type": "stream",
     "text": [
      "0b100011110\n",
      "0b100010010\n",
      "0 8\n"
     ]
    }
   ],
   "source": [
    "a = 0b0100011010\n",
    "print(bin(a | (1 << 2))) #把2插入到集合中\n",
    "print(bin(a & ~(1 << 3))) #把3从集合中删除\n",
    "print(a & (1 << 2),a & (1 << 3)) #判断2 和 3 是否在集合中"
   ]
  },
  {
   "cell_type": "code",
   "execution_count": 48,
   "metadata": {},
   "outputs": [
    {
     "name": "stdout",
     "output_type": "stream",
     "text": [
      "-0b100011011\n",
      "0b100000010\n",
      "0b110011110\n",
      "0b11000\n"
     ]
    }
   ],
   "source": [
    "b = 0b0110000110  #{1,2,7,8}\n",
    "print(bin(~a)) #a补\n",
    "print(bin(a & b)) #a交b\n",
    "print(bin(a | b)) #a并b\n",
    "print(bin(a & (~b))) #a差b "
   ]
  },
  {
   "cell_type": "markdown",
   "metadata": {},
   "source": [
    "## 条件"
   ]
  },
  {
   "cell_type": "code",
   "execution_count": 4,
   "metadata": {},
   "outputs": [
    {
     "name": "stdout",
     "output_type": "stream",
     "text": [
      "4\n"
     ]
    }
   ],
   "source": [
    "x, y = 4, 5\n",
    "if x < y:\n",
    "    small = x\n",
    "else:\n",
    "    small = y\n",
    "\n",
    "print(small)  # 4"
   ]
  },
  {
   "cell_type": "code",
   "execution_count": 5,
   "metadata": {},
   "outputs": [
    {
     "name": "stdout",
     "output_type": "stream",
     "text": [
      "A exists\n",
      "h not exists\n"
     ]
    }
   ],
   "source": [
    "letters = ['A', 'B', 'C']\n",
    "if 'A' in letters:\n",
    "    print('A' + ' exists')\n",
    "if 'h' not in letters:\n",
    "    print('h' + ' not exists')"
   ]
  },
  {
   "cell_type": "markdown",
   "metadata": {},
   "source": [
    "### 【例子】比较的两个变量均指向不可变类型"
   ]
  },
  {
   "cell_type": "code",
   "execution_count": 10,
   "metadata": {},
   "outputs": [
    {
     "name": "stdout",
     "output_type": "stream",
     "text": [
      "True True\n",
      "False False\n",
      "__________\n",
      "True True\n",
      "False False\n"
     ]
    }
   ],
   "source": [
    "a = \"hello\"\n",
    "b = \"hello\"\n",
    "print(a is b, a == b)  # True True\n",
    "print(a is not b, a != b)  # False False\n",
    "print(\"__________\")\n",
    "aa = 10\n",
    "bb = 10\n",
    "print(aa is bb, aa == bb)\n",
    "print(aa is not bb, aa != bb)"
   ]
  },
  {
   "cell_type": "markdown",
   "metadata": {},
   "source": [
    "### 【例子】比较的两个变量均指向可变类型"
   ]
  },
  {
   "cell_type": "code",
   "execution_count": 12,
   "metadata": {},
   "outputs": [
    {
     "name": "stdout",
     "output_type": "stream",
     "text": [
      "False True\n",
      "True False\n",
      "False True\n",
      "True False\n"
     ]
    }
   ],
   "source": [
    "a = [\"hello\"]\n",
    "b = [\"hello\"]\n",
    "print(a is b, a == b)  \n",
    "print(a is not b, a != b)  \n",
    "\n",
    "aa = [1,2,3]\n",
    "bb = [1,2,3]\n",
    "print(aa is bb,aa == bb)\n",
    "print(aa is not bb, aa != bb)"
   ]
  },
  {
   "cell_type": "markdown",
   "metadata": {},
   "source": [
    "#### \"is\" 不用于可变量\n",
    "##### is, is not 对比的是两个变量的内存地址\n",
    "##### ==, != 对比的是两个变量的值\n",
    "##### 比较的两个变量，指向的都是地址不可变的类型（str等），那么is，is not 和 ==，！= 是完全等价的。\n",
    "##### 对比的两个变量，指向的是地址可变的类型（list，dict，tuple等），则两者是有区别的。"
   ]
  },
  {
   "cell_type": "markdown",
   "metadata": {},
   "source": [
    "## 运算符优先级\n",
    "| 运算符 | 描述 |\n",
    "| --- | --- |\n",
    "| ** | 指数（最高优先级） |\n",
    "| ~- | 按位翻转，一元加号和减号 |\n",
    "| * / % // | 乘，除，取模和取整除 |\n",
    "| +- | 加法减法 |\n",
    "| >> << | 右移，左移运算符 |\n",
    "| & | 位'AND' |\n",
    "| ^ | 位'XOR' |\n",
    "| <= >= <> | 比较运算符 |\n",
    "| == != | 等于运算符 |\n",
    "| %= //= -= += *= = | 赋值运算符 |\n",
    "| is | 身份运算符 |\n",
    "| is not | 身份运算符 |\n",
    "| in | 成员运算符 |\n",
    "| not in | 成员运算符 |\n",
    "| not | 逻辑运算符 |\n",
    "| and | 逻辑运算符 |\n",
    "| or | 逻辑运算符 |"
   ]
  },
  {
   "cell_type": "code",
   "execution_count": 13,
   "metadata": {},
   "outputs": [
    {
     "name": "stdout",
     "output_type": "stream",
     "text": [
      "-9\n",
      "0.1111111111111111\n",
      "0\n",
      "-12.5\n",
      "True\n"
     ]
    }
   ],
   "source": [
    "print(-3 ** 2)  # -9\n",
    "print(3 ** -2)  # 0.1111111111111111\n",
    "print(1 << 3 + 2 & 7)  # 0\n",
    "print(-3 * 2 + 5 / -2 - 4)  # -12.5\n",
    "print(3 < 4 and 4 < 5)  # True"
   ]
  },
  {
   "cell_type": "markdown",
   "metadata": {},
   "source": [
    "## 变量和赋值"
   ]
  },
  {
   "cell_type": "code",
   "execution_count": 14,
   "metadata": {},
   "outputs": [
    {
     "name": "stdout",
     "output_type": "stream",
     "text": [
      "老马的程序人生\n",
      "5\n"
     ]
    }
   ],
   "source": [
    "teacher = \"老马的程序人生\"\n",
    "print(teacher)  # 老马的程序人生\n",
    "first = 2\n",
    "second = 3\n",
    "third = first + second\n",
    "print(third)  # 5"
   ]
  },
  {
   "cell_type": "code",
   "execution_count": 20,
   "metadata": {},
   "outputs": [
    {
     "name": "stdout",
     "output_type": "stream",
     "text": [
      "老马的程序人生,小马的程序人生\n"
     ]
    }
   ],
   "source": [
    "myTeacher = \"老马的程序人生\"\n",
    "yourTeacher = \"小马的程序人生\"\n",
    "ourTeacher = myTeacher + ',' + yourTeacher\n",
    "print(ourTeacher)  # 老马的程序人生,小马的程序人生"
   ]
  },
  {
   "cell_type": "code",
   "execution_count": 26,
   "metadata": {},
   "outputs": [
    {
     "name": "stdout",
     "output_type": "stream",
     "text": [
      "学习 {'欢迎', 'python'}\n"
     ]
    }
   ],
   "source": [
    "# 运行一下就好啦\n",
    "set_1 = {'欢迎','学习','python'}\n",
    "print(set_1.pop(),set_1)\n",
    "    "
   ]
  },
  {
   "cell_type": "markdown",
   "metadata": {},
   "source": [
    "## 数据类型与转化"
   ]
  },
  {
   "cell_type": "code",
   "execution_count": 27,
   "metadata": {},
   "outputs": [
    {
     "name": "stdout",
     "output_type": "stream",
     "text": [
      "1031 <class 'int'>\n"
     ]
    }
   ],
   "source": [
    "a = 1031\n",
    "print(a, type(a))"
   ]
  },
  {
   "cell_type": "code",
   "execution_count": 28,
   "metadata": {},
   "outputs": [
    {
     "name": "stdout",
     "output_type": "stream",
     "text": [
      "['__abs__', '__add__', '__and__', '__bool__', '__ceil__', '__class__', '__delattr__', '__dir__', '__divmod__', '__doc__', '__eq__', '__float__', '__floor__', '__floordiv__', '__format__', '__ge__', '__getattribute__', '__getnewargs__', '__getstate__', '__gt__', '__hash__', '__index__', '__init__', '__init_subclass__', '__int__', '__invert__', '__le__', '__lshift__', '__lt__', '__mod__', '__mul__', '__ne__', '__neg__', '__new__', '__or__', '__pos__', '__pow__', '__radd__', '__rand__', '__rdivmod__', '__reduce__', '__reduce_ex__', '__repr__', '__rfloordiv__', '__rlshift__', '__rmod__', '__rmul__', '__ror__', '__round__', '__rpow__', '__rrshift__', '__rshift__', '__rsub__', '__rtruediv__', '__rxor__', '__setattr__', '__sizeof__', '__str__', '__sub__', '__subclasshook__', '__truediv__', '__trunc__', '__xor__', 'as_integer_ratio', 'bit_count', 'bit_length', 'conjugate', 'denominator', 'from_bytes', 'imag', 'is_integer', 'numerator', 'real', 'to_bytes']\n"
     ]
    }
   ],
   "source": [
    "b = dir(int)\n",
    "print(b)"
   ]
  },
  {
   "cell_type": "markdown",
   "metadata": {},
   "source": [
    "| 方法/属性 | 描述 | 示例 |\n",
    "| --- | --- | --- |\n",
    "| `__abs__()` | 返回整数的绝对值 | `(-5).__abs__()` 返回 `5` |\n",
    "| `__add__(self, other)` | 实现加法运算 | `a + b` 调用 `a.__add__(b)` |\n",
    "| `__and__(self, other)` | 实现按位与运算 | `3 & 5` 调用 `3.__and__(5)` |\n",
    "| `__bool__()` | 将整数转换为布尔值，非零为 `True`，零为 `False` | `bool(5)` 调用 `5.__bool__()` 返回 `True` |\n",
    "| `__ceil__()` | 返回大于或等于该整数的最小整数（对整数是其自身） | `5.__ceil__()` 返回 `5` |\n",
    "| `__class__` | 返回对象所属的类，对整数为 `int` 类 | `type(5).__name__` 基于 `5.__class__` 返回 `'int'` |\n",
    "| `__delattr__(self, name)` | 用于删除对象的属性（整数对象较少用） | - |\n",
    "| `__dir__()` | 返回对象的属性和方法列表 | `dir(5)` 调用 `5.__dir__()` |\n",
    "| `__divmod__(self, other)` | 返回整数除法的商和余数组成的元组 | `divmod(10, 3)` 调用 `10.__divmod__(3)` 返回 `(3, 1)` |\n",
    "| `__doc__` | 返回对象的文档字符串 | `int.__doc__` 显示 `int` 类文档 |\n",
    "| `__eq__(self, other)` | 实现相等比较 | `a == b` 调用 `a.__eq__(b)` |\n",
    "| `__float__()` | 将整数转换为浮点数 | `float(5)` 调用 `5.__float__()` 返回 `5.0` |\n",
    "| `__floor__()` | 返回小于或等于该整数的最大整数（对整数是其自身） | `5.__floor__()` 返回 `5` |\n",
    "| `__floordiv__(self, other)` | 实现整除运算（向下取整） | `10 // 3` 调用 `10.__floordiv__(3)` 返回 `3` |\n",
    "| `__format__(self, format_spec)` | 用于格式化对象 | `'{:b}'.format(5)` 调用 `5.__format__('b')` |\n",
    "| `__ge__(self, other)` | 实现大于等于比较 | `a >= b` 调用 `a.__ge__(b)` |\n",
    "| `__getattribute__(self, name)` | 访问对象属性或方法时调用 | `5.__getattribute__('__add__')` |\n",
    "| `__getnewargs__()` | 支持对象反序列化（`pickle` 模块用） | - |\n",
    "| `__gt__(self, other)` | 实现大于比较 | `a > b` 调用 `a.__gt__(b)` |\n",
    "| `__hash__()` | 返回对象的哈希值 | `hash(5)` 调用 `5.__hash__()` |\n",
    "| `__index__()` | 用于在需要整数索引的地方使用 | 切片操作中使用整数对象 |\n",
    "| `__init__(self, *args, **kwargs)` | 类的初始化方法（创建整数对象时调用） | - |\n",
    "| `__init_subclass__()` | 创建子类时调用（用于 `int` 子类初始化） | - |\n",
    "| `__int__()` | 返回整数自身（显式类型转换用） | `int(5)` 调用 `5.__int__()` |\n",
    "| `__invert__()` | 实现按位取反运算 | `~5` 调用 `5.__invert__()` |\n",
    "| `__le__(self, other)` | 实现小于等于比较 | `a <= b` 调用 `a.__le__(b)` |\n",
    "| `__lshift__(self, other)` | 实现按位左移运算 | `5 << 2` 调用 `5.__lshift__(2)` |\n",
    "| `__lt__(self, other)` | 实现小于比较 | `a < b` 调用 `a.__lt__(b)` |\n",
    "| `__mod__(self, other)` | 实现取模运算 | `10 % 3` 调用 `10.__mod__(3)` 返回 `1` |\n",
    "| `__mul__(self, other)` | 实现乘法运算 | `2 * 3` 调用 `2.__mul__(3)` |\n",
    "| `__ne__(self, other)` | 实现不相等比较 | `a != b` 调用 `a.__ne__(b)` |\n",
    "| `__neg__()` | 返回整数的负数 | `(-3).__neg__()` 返回 `3` |\n",
    "| `__new__(cls, *args, **kwargs)` | 创建并返回新对象（在 `__init__` 前调用） | - |\n",
    "| `__or__(self, other)` | 实现按位或运算 | `3 | 5` 调用 `3.__or__(5)` |\n",
    "| `__pos__()` | 返回整数本身 | `+5` 调用 `5.__pos__()` |\n",
    "| `__pow__(self, other[, modulo])` | 实现幂运算，可进行模幂运算 | `2 ** 3` 调用 `2.__pow__(3)` |\n",
    "| `__radd__(self, other)` | 反向加法（左操作数不支持加法时调用） | - |\n",
    "| `__rand__(self, other)` | 反向按位与运算 | - |\n",
    "| `__rdivmod__(self, other)` | 反向 `divmod` 运算 | - |\n",
    "| `__reduce__()` | 用于对象序列化（`pickle` 模块用） | - |\n",
    "| `__reduce_ex__()` | 用于对象序列化（`pickle` 模块用） | - |\n",
    "| `__repr__()` | 返回对象的字符串表示形式（调试用） | `repr(5)` 调用 `5.__repr__()` |\n",
    "| `__rfloordiv__(self, other)` | 反向整除运算 | - |\n",
    "| `__rlshift__(self, other)` | 反向按位左移运算 | - |\n",
    "| `__rmod__(self, other)` | 反向取模运算 | - |\n",
    "| `__rmul__(self, other)` | 反向乘法运算 | - |\n",
    "| `__ror__(self, other)` | 反向按位或运算 | - |\n",
    "| `__round__([ndigits])` | 对整数进行四舍五入（结果通常是自身） | `round(5)` 调用 `5.__round__()` |\n",
    "| `__rpow__(self, other[, modulo])` | 反向幂运算 | - |\n",
    "| `__rrshift__(self, other)` | 反向按位右移运算 | - |\n",
    "| `__rshift__(self, other)` | 实现按位右移运算 | `5 >> 2` 调用 `5.__rshift__(2)` |\n",
    "| `__rsub__(self, other)` | 反向减法运算 | - |\n",
    "| `__rtruediv__(self, other)` | 反向真除法运算 | - |\n",
    "| `__rxor__(self, other)` | 反向按位异或运算 | - |\n",
    "| `__setattr__(self, name, value)` | 用于设置对象的属性（整数对象较少用） | - |\n",
    "| `__sizeof__()` | 返回对象占用的内存大小（字节为单位） | `5.__sizeof__()` |\n",
    "| `__str__()` | 返回对象的字符串表示形式（用户输出用） | `str(5)` 调用 `5.__str__()` |\n",
    "| `__sub__(self, other)` | 实现减法运算 | `5 - 3` 调用 `5.__sub__(3)` |\n",
    "| `__subclasshook__(cls, subclass)` | 检查一个类是否为另一个类的子类（抽象基类机制用） | - |\n",
    "| `__truediv__(self, other)` | 实现真除法运算（结果为浮点数） | `5 / 2` 调用 `5.__truediv__(2)` 返回 `2.5` |\n",
    "| `__trunc__()` | 返回整数本身（遵循 `math.trunc` 逻辑） | `5.__trunc__()` 返回 `5` |\n",
    "| `__xor__(self, other)` | 实现按位异或运算 | `3 ^ 5` 调用 `3.__xor__(5)` |\n",
    "| `as_integer_ratio()` | 返回整数的分子和分母组成的元组（分母为 `1`） | `5.as_integer_ratio()` 返回 `(5, 1)` |\n",
    "| `bit_length()` | 返回表示该整数所需的最少位数（不含符号位） | `5.bit_length()` 返回 `3` |\n",
    "| `conjugate()` | 返回整数本身（与复数 `conjugate` 方法保持一致） | `5.conjugate()` 返回 `5` |\n",
    "| `denominator` | 属性，整数的分母为 `1` | `5.denominator` 返回 `1` |\n",
    "| `from_bytes(bytes, byteorder, *, signed=False)` | 类方法，从字节序列创建整数 | `int.from_bytes(b'\\x05', byteorder='big')` |\n",
    "| `imag` | 属性，整数的虚部为 `0` | `5.imag` 返回 `0` |\n",
    "| `numerator` | 属性，整数的分子是其本身 | `5.numerator` 返回 `5` |\n",
    "| `real` | 属性，整数的实部是其本身 | `5.real` 返回 `5` |\n",
    "| `to_bytes(length, byteorder, *, signed=False)` | 将整数转换为字节序列 | `(5).to_bytes(1, byteorder='big')` | "
   ]
  },
  {
   "cell_type": "markdown",
   "metadata": {},
   "source": [
    "##### 位数"
   ]
  },
  {
   "cell_type": "code",
   "execution_count": 30,
   "metadata": {},
   "outputs": [
    {
     "name": "stdout",
     "output_type": "stream",
     "text": [
      "0b10000000111\n",
      "11\n"
     ]
    }
   ],
   "source": [
    "a = 1031\n",
    "print(bin(a))  # 0b10000000111\n",
    "print(a.bit_length())  # 11"
   ]
  },
  {
   "cell_type": "markdown",
   "metadata": {},
   "source": [
    "##### 类型与科学计数法"
   ]
  },
  {
   "cell_type": "code",
   "execution_count": 31,
   "metadata": {},
   "outputs": [
    {
     "name": "stdout",
     "output_type": "stream",
     "text": [
      "1 <class 'int'>\n",
      "1.0 <class 'float'>\n",
      "2.3e-07\n",
      "2.3e-07\n"
     ]
    }
   ],
   "source": [
    "print(1, type(1))\n",
    "# 1 <class 'int'>\n",
    "\n",
    "print(1., type(1.))\n",
    "# 1.0 <class 'float'>\n",
    "\n",
    "a = 0.00000023\n",
    "b = 2.3e-7\n",
    "print(a)  # 2.3e-07\n",
    "print(b)  # 2.3e-07"
   ]
  },
  {
   "cell_type": "markdown",
   "metadata": {},
   "source": [
    "##### 有时候我们想保留浮点型的小数点后 n 位。可以用 decimal 包里的 Decimal 对象和 getcontext() 方法来实现。\n",
    "##### 【例子】getcontext() 显示了 Decimal 对象的默认精度值是 28 位 (prec=28)。\n"
   ]
  },
  {
   "cell_type": "code",
   "execution_count": 32,
   "metadata": {},
   "outputs": [
    {
     "name": "stdout",
     "output_type": "stream",
     "text": [
      "Context(prec=28, rounding=ROUND_HALF_EVEN, Emin=-999999, Emax=999999, capitals=1, clamp=0, flags=[], traps=[InvalidOperation, DivisionByZero, Overflow])\n",
      "0.3333333333333333333333333333\n"
     ]
    }
   ],
   "source": [
    "import decimal\n",
    "from decimal import Decimal\n",
    "\n",
    "a = decimal.getcontext()\n",
    "print(a)\n",
    "\n",
    "# Context(prec=28, rounding=ROUND_HALF_EVEN, Emin=-999999, Emax=999999,\n",
    "# capitals=1, clamp=0, flags=[], \n",
    "# traps=[InvalidOperation, DivisionByZero, Overflow])\n",
    "\n",
    "b = Decimal(1) / Decimal(3)\n",
    "print(b)\n",
    "# 0.3333333333333333333333333333"
   ]
  },
  {
   "cell_type": "markdown",
   "metadata": {},
   "source": [
    "##### 【例子】使 1/3 保留 4 位，用 getcontext().prec 来调整精度。"
   ]
  },
  {
   "cell_type": "code",
   "execution_count": 33,
   "metadata": {},
   "outputs": [
    {
     "name": "stdout",
     "output_type": "stream",
     "text": [
      "0.3333\n"
     ]
    }
   ],
   "source": [
    "decimal.getcontext().prec = 4\n",
    "c = Decimal(1) / Decimal(3)\n",
    "print(c)\n",
    "\n",
    "# 0.3333"
   ]
  },
  {
   "cell_type": "markdown",
   "metadata": {},
   "source": [
    "布尔 (boolean) 型变量只能取两个值，True 和 False。当把布尔型变量用在数字运算中，用 1 和 0 代表 True 和 False"
   ]
  },
  {
   "cell_type": "code",
   "execution_count": 34,
   "metadata": {},
   "outputs": [
    {
     "name": "stdout",
     "output_type": "stream",
     "text": [
      "2\n",
      "1\n",
      "0\n"
     ]
    }
   ],
   "source": [
    "print(True + True)  # 2\n",
    "print(True + False)  # 1\n",
    "print(True * False)  # 0"
   ]
  },
  {
   "cell_type": "markdown",
   "metadata": {},
   "source": [
    "##### 除了直接给变量赋值 True 和 False，还可以用 bool(X) 来创建变量，其中 X 可以是\n",
    "\n",
    "##### 基本类型：整型、浮点型、布尔型\n",
    "##### 容器类型：字符串、元组、列表、字典和集合\n",
    "##### 【例子】bool 作用在基本类型变量：X 只要不是整型 0、浮点型 0.0，bool(X) 就是 True，其余就是 False。\n",
    "##### 【例子】bool 作用在容器类型变量：X 只要不是空的变量，bool(X) 就是 True，其余就是 False。"
   ]
  },
  {
   "cell_type": "code",
   "execution_count": 35,
   "metadata": {},
   "outputs": [
    {
     "name": "stdout",
     "output_type": "stream",
     "text": [
      "<class 'int'> False True\n",
      "<class 'float'> False True\n",
      "<class 'bool'> False True\n"
     ]
    }
   ],
   "source": [
    "print(type(0), bool(0), bool(1))\n",
    "# <class 'int'> False True\n",
    "\n",
    "print(type(10.31), bool(0.00), bool(10.31))\n",
    "# <class 'float'> False True\n",
    "\n",
    "print(type(True), bool(False), bool(True))\n",
    "# <class 'bool'> False True"
   ]
  },
  {
   "cell_type": "code",
   "execution_count": 36,
   "metadata": {},
   "outputs": [
    {
     "name": "stdout",
     "output_type": "stream",
     "text": [
      "<class 'str'> False True\n",
      "<class 'tuple'> False True\n",
      "<class 'list'> False True\n"
     ]
    }
   ],
   "source": [
    "print(type(''), bool(''), bool('python'))\n",
    "# <class 'str'> False True\n",
    "\n",
    "print(type(()), bool(()), bool((10,)))\n",
    "# <class 'tuple'> False True\n",
    "\n",
    "print(type([]), bool([]), bool([1, 2]))\n",
    "# <class 'list'> False True"
   ]
  },
  {
   "cell_type": "markdown",
   "metadata": {},
   "source": [
    "### 类型转换"
   ]
  },
  {
   "cell_type": "code",
   "execution_count": 37,
   "metadata": {},
   "outputs": [
    {
     "name": "stdout",
     "output_type": "stream",
     "text": [
      "520\n",
      "520\n",
      "520.52\n",
      "520.0\n",
      "20\n",
      "15.3\n"
     ]
    }
   ],
   "source": [
    "print(int('520'))  # 520\n",
    "print(int(520.52))  # 520\n",
    "print(float('520.52'))  # 520.52\n",
    "print(float(520))  # 520.0\n",
    "print(str(10 + 10))  # 20\n",
    "print(str(10.1 + 5.2))  # 15.3"
   ]
  },
  {
   "cell_type": "markdown",
   "metadata": {},
   "source": [
    "## 循环"
   ]
  },
  {
   "cell_type": "markdown",
   "metadata": {},
   "source": [
    "#### while"
   ]
  },
  {
   "cell_type": "code",
   "execution_count": 49,
   "metadata": {},
   "outputs": [
    {
     "name": "stdout",
     "output_type": "stream",
     "text": [
      "abcd\n",
      "bcd\n",
      "cd\n",
      "d\n"
     ]
    }
   ],
   "source": [
    "string = 'abcd'\n",
    "while string:\n",
    "    print(string)\n",
    "    string = string[1:]"
   ]
  },
  {
   "cell_type": "markdown",
   "metadata": {},
   "source": [
    "#### while else\n",
    "当while循环正常执行完的情况下，执行else输出，如果while循环中执行了跳出循环的语句，比如 break，将不执行else代码块的内容。"
   ]
  },
  {
   "cell_type": "code",
   "execution_count": 51,
   "metadata": {},
   "outputs": [
    {
     "name": "stdout",
     "output_type": "stream",
     "text": [
      "0 is  less than 5\n",
      "1 is  less than 5\n",
      "2 is  less than 5\n",
      "3 is  less than 5\n",
      "4 is  less than 5\n",
      "5 is not less than 5\n"
     ]
    }
   ],
   "source": [
    "count = 0\n",
    "while count < 5:\n",
    "    print(\"%d is  less than 5\" % count)\n",
    "    count = count + 1\n",
    "else:\n",
    "    print(\"%d is not less than 5\" % count)\n",
    "    \n",
    "# 0 is  less than 5\n",
    "# 1 is  less than 5\n",
    "# 2 is  less than 5\n",
    "# 3 is  less than 5\n",
    "# 4 is  less than 5\n",
    "# 5 is not less than 5"
   ]
  },
  {
   "cell_type": "markdown",
   "metadata": {},
   "source": [
    "## 错误"
   ]
  },
  {
   "cell_type": "markdown",
   "metadata": {},
   "source": [
    "### try - except"
   ]
  },
  {
   "cell_type": "code",
   "execution_count": 55,
   "metadata": {},
   "outputs": [
    {
     "ename": "FileNotFoundError",
     "evalue": "[Errno 2] No such file or directory: 'test.txt'",
     "output_type": "error",
     "traceback": [
      "\u001b[0;31m---------------------------------------------------------------------------\u001b[0m",
      "\u001b[0;31mFileNotFoundError\u001b[0m                         Traceback (most recent call last)",
      "Cell \u001b[0;32mIn[55], line 1\u001b[0m\n\u001b[0;32m----> 1\u001b[0m f \u001b[38;5;241m=\u001b[39m \u001b[38;5;28mopen\u001b[39m(\u001b[38;5;124m'\u001b[39m\u001b[38;5;124mtest.txt\u001b[39m\u001b[38;5;124m'\u001b[39m)\n\u001b[1;32m      2\u001b[0m \u001b[38;5;28mprint\u001b[39m(f\u001b[38;5;241m.\u001b[39mread())\n\u001b[1;32m      3\u001b[0m f\u001b[38;5;241m.\u001b[39mclose()\n",
      "File \u001b[0;32m/opt/anaconda3/lib/python3.12/site-packages/IPython/core/interactiveshell.py:324\u001b[0m, in \u001b[0;36m_modified_open\u001b[0;34m(file, *args, **kwargs)\u001b[0m\n\u001b[1;32m    317\u001b[0m \u001b[38;5;28;01mif\u001b[39;00m file \u001b[38;5;129;01min\u001b[39;00m {\u001b[38;5;241m0\u001b[39m, \u001b[38;5;241m1\u001b[39m, \u001b[38;5;241m2\u001b[39m}:\n\u001b[1;32m    318\u001b[0m     \u001b[38;5;28;01mraise\u001b[39;00m \u001b[38;5;167;01mValueError\u001b[39;00m(\n\u001b[1;32m    319\u001b[0m         \u001b[38;5;124mf\u001b[39m\u001b[38;5;124m\"\u001b[39m\u001b[38;5;124mIPython won\u001b[39m\u001b[38;5;124m'\u001b[39m\u001b[38;5;124mt let you open fd=\u001b[39m\u001b[38;5;132;01m{\u001b[39;00mfile\u001b[38;5;132;01m}\u001b[39;00m\u001b[38;5;124m by default \u001b[39m\u001b[38;5;124m\"\u001b[39m\n\u001b[1;32m    320\u001b[0m         \u001b[38;5;124m\"\u001b[39m\u001b[38;5;124mas it is likely to crash IPython. If you know what you are doing, \u001b[39m\u001b[38;5;124m\"\u001b[39m\n\u001b[1;32m    321\u001b[0m         \u001b[38;5;124m\"\u001b[39m\u001b[38;5;124myou can use builtins\u001b[39m\u001b[38;5;124m'\u001b[39m\u001b[38;5;124m open.\u001b[39m\u001b[38;5;124m\"\u001b[39m\n\u001b[1;32m    322\u001b[0m     )\n\u001b[0;32m--> 324\u001b[0m \u001b[38;5;28;01mreturn\u001b[39;00m io_open(file, \u001b[38;5;241m*\u001b[39margs, \u001b[38;5;241m*\u001b[39m\u001b[38;5;241m*\u001b[39mkwargs)\n",
      "\u001b[0;31mFileNotFoundError\u001b[0m: [Errno 2] No such file or directory: 'test.txt'"
     ]
    }
   ],
   "source": [
    "f = open('test.txt')\n",
    "print(f.read())\n",
    "f.close()"
   ]
  },
  {
   "cell_type": "code",
   "execution_count": 52,
   "metadata": {},
   "outputs": [
    {
     "name": "stdout",
     "output_type": "stream",
     "text": [
      "打开文件出错\n"
     ]
    }
   ],
   "source": [
    "try:\n",
    "    f = open('test.txt')\n",
    "    print(f.read())\n",
    "    f.close()\n",
    "except OSError:\n",
    "    print('打开文件出错')\n",
    "\n",
    "# 打开文件出错"
   ]
  },
  {
   "cell_type": "code",
   "execution_count": 53,
   "metadata": {},
   "outputs": [
    {
     "name": "stdout",
     "output_type": "stream",
     "text": [
      "打开文件出错\n",
      "原因是：[Errno 2] No such file or directory: 'test.txt'\n"
     ]
    }
   ],
   "source": [
    "try:\n",
    "    f = open('test.txt')\n",
    "    print(f.read())\n",
    "    f.close()\n",
    "except OSError as error:\n",
    "    print('打开文件出错\\n原因是：' + str(error))"
   ]
  },
  {
   "cell_type": "markdown",
   "metadata": {},
   "source": [
    "### try - except - finally 语句"
   ]
  },
  {
   "cell_type": "markdown",
   "metadata": {},
   "source": [
    "try: 检测范围 except Exception[as reason]: 出现异常后的处理代码 finally: 无论如何都会被执行的代码\n",
    "\n",
    "不管try子句里面有没有发生异常，finally子句都会执行。\n",
    "\n",
    "【例子】如果一个异常在try子句里被抛出，而又没有任何的except把它截住，那么这个异常会在finally子句执行后被抛出。"
   ]
  },
  {
   "cell_type": "code",
   "execution_count": 56,
   "metadata": {},
   "outputs": [
    {
     "name": "stdout",
     "output_type": "stream",
     "text": [
      "result is 2.0\n",
      "executing finally clause\n",
      "division by zero!\n",
      "executing finally clause\n",
      "executing finally clause\n"
     ]
    },
    {
     "ename": "TypeError",
     "evalue": "unsupported operand type(s) for /: 'str' and 'str'",
     "output_type": "error",
     "traceback": [
      "\u001b[0;31m---------------------------------------------------------------------------\u001b[0m",
      "\u001b[0;31mTypeError\u001b[0m                                 Traceback (most recent call last)",
      "Cell \u001b[0;32mIn[56], line 17\u001b[0m\n\u001b[1;32m     14\u001b[0m divide(\u001b[38;5;241m2\u001b[39m, \u001b[38;5;241m0\u001b[39m)\n\u001b[1;32m     15\u001b[0m \u001b[38;5;66;03m# division by zero!\u001b[39;00m\n\u001b[1;32m     16\u001b[0m \u001b[38;5;66;03m# executing finally clause\u001b[39;00m\n\u001b[0;32m---> 17\u001b[0m divide(\u001b[38;5;124m\"\u001b[39m\u001b[38;5;124m2\u001b[39m\u001b[38;5;124m\"\u001b[39m, \u001b[38;5;124m\"\u001b[39m\u001b[38;5;124m1\u001b[39m\u001b[38;5;124m\"\u001b[39m)\n",
      "Cell \u001b[0;32mIn[56], line 3\u001b[0m, in \u001b[0;36mdivide\u001b[0;34m(x, y)\u001b[0m\n\u001b[1;32m      1\u001b[0m \u001b[38;5;28;01mdef\u001b[39;00m \u001b[38;5;21mdivide\u001b[39m(x, y):\n\u001b[1;32m      2\u001b[0m     \u001b[38;5;28;01mtry\u001b[39;00m:\n\u001b[0;32m----> 3\u001b[0m         result \u001b[38;5;241m=\u001b[39m x \u001b[38;5;241m/\u001b[39m y\n\u001b[1;32m      4\u001b[0m         \u001b[38;5;28mprint\u001b[39m(\u001b[38;5;124m\"\u001b[39m\u001b[38;5;124mresult is\u001b[39m\u001b[38;5;124m\"\u001b[39m, result)\n\u001b[1;32m      5\u001b[0m     \u001b[38;5;28;01mexcept\u001b[39;00m \u001b[38;5;167;01mZeroDivisionError\u001b[39;00m:\n",
      "\u001b[0;31mTypeError\u001b[0m: unsupported operand type(s) for /: 'str' and 'str'"
     ]
    }
   ],
   "source": [
    "def divide(x, y):\n",
    "    try:\n",
    "        result = x / y\n",
    "        print(\"result is\", result)\n",
    "    except ZeroDivisionError:\n",
    "        print(\"division by zero!\")\n",
    "    finally:\n",
    "        print(\"executing finally clause\")\n",
    "\n",
    "\n",
    "divide(2, 1)\n",
    "# result is 2.0\n",
    "# executing finally clause\n",
    "divide(2, 0)\n",
    "# division by zero!\n",
    "# executing finally clause\n",
    "divide(\"2\", \"1\")\n",
    "# executing finally clause\n",
    "# TypeError: unsupported operand type(s) for /: 'str' and 'str'"
   ]
  },
  {
   "cell_type": "markdown",
   "metadata": {},
   "source": [
    "### try - except - else 语句"
   ]
  },
  {
   "cell_type": "markdown",
   "metadata": {},
   "source": [
    "如果在try子句执行时没有发生异常，Python将执行else语句后的语句。\n",
    "\n",
    "try:\n",
    "    检测范围\n",
    "except:\n",
    "    出现异常后的处理代码\n",
    "else:\n",
    "    如果没有异常执行这块代码\n",
    "使用except而不带任何异常类型，这不是一个很好的方式，我们不能通过该程序识别出具体的异常信息，因为它捕获所有的异常。\n",
    "\n",
    "try: 检测范围 except(Exception1[, Exception2[,...ExceptionN]]]): 发生以上多个异常中的一个，执行这块代码 else: 如果没有异常执行这块代码\n",
    "\n"
   ]
  },
  {
   "cell_type": "code",
   "execution_count": 57,
   "metadata": {},
   "outputs": [
    {
     "name": "stdout",
     "output_type": "stream",
     "text": [
      "内容写入文件成功\n"
     ]
    }
   ],
   "source": [
    "try:\n",
    "    fh = open(\"testfile.txt\", \"w\")\n",
    "    fh.write(\"这是一个测试文件，用于测试异常!!\")\n",
    "except IOError:\n",
    "    print(\"Error: 没有找到文件或读取文件失败\")\n",
    "else:\n",
    "    print(\"内容写入文件成功\")\n",
    "    fh.close()\n",
    "\n",
    "# 内容写入文件成功"
   ]
  },
  {
   "cell_type": "markdown",
   "metadata": {},
   "source": [
    "### raise语句"
   ]
  },
  {
   "cell_type": "code",
   "execution_count": 58,
   "metadata": {},
   "outputs": [
    {
     "name": "stdout",
     "output_type": "stream",
     "text": [
      "An exception flew by!\n"
     ]
    }
   ],
   "source": [
    "try:\n",
    "    raise NameError('HiThere')\n",
    "except NameError:\n",
    "    print('An exception flew by!')\n",
    "    \n",
    "# An exception flew by!"
   ]
  }
 ],
 "metadata": {
  "kernelspec": {
   "display_name": "base",
   "language": "python",
   "name": "python3"
  },
  "language_info": {
   "codemirror_mode": {
    "name": "ipython",
    "version": 3
   },
   "file_extension": ".py",
   "mimetype": "text/x-python",
   "name": "python",
   "nbconvert_exporter": "python",
   "pygments_lexer": "ipython3",
   "version": "3.12.7"
  }
 },
 "nbformat": 4,
 "nbformat_minor": 2
}
